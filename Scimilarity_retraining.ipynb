{
 "cells": [
  {
   "cell_type": "code",
   "execution_count": 30,
   "metadata": {},
   "outputs": [],
   "source": [
    "# import hnswlib\n",
    "import scanpy as sc\n",
    "from matplotlib import pyplot as plt"
   ]
  },
  {
   "cell_type": "code",
   "execution_count": 31,
   "metadata": {},
   "outputs": [],
   "source": [
    "import anndata as ad"
   ]
  },
  {
   "cell_type": "code",
   "execution_count": 32,
   "metadata": {},
   "outputs": [],
   "source": [
    "sc.set_figure_params(dpi=100)\n",
    "plt.rcParams[\"figure.figsize\"] = [6, 4]\n",
    "\n",
    "import warnings\n",
    "\n",
    "warnings.filterwarnings(\"ignore\")"
   ]
  },
  {
   "cell_type": "code",
   "execution_count": 33,
   "metadata": {},
   "outputs": [],
   "source": [
    "# 读取h5ad格式文件\n",
    "import scanpy as sc\n",
    "import numpy as np"
   ]
  },
  {
   "cell_type": "code",
   "execution_count": 4,
   "metadata": {},
   "outputs": [],
   "source": [
    "A_new = sc.read_loom('D:\\\\儿童医院ZWT_MS\\\\单细胞转录组分析\\\\AJS转录组整合\\\\patient_remove\\\\A_new.loom')"
   ]
  },
  {
   "cell_type": "code",
   "execution_count": 12,
   "metadata": {},
   "outputs": [],
   "source": [
    "A_new.write_zarr('D:\\\\儿童医院ZWT_MS\\\\单细胞转录组分析\\\\AJS转录组整合\\\\patient_remove\\\\A_new_zarr')"
   ]
  },
  {
   "cell_type": "code",
   "execution_count": 5,
   "metadata": {},
   "outputs": [
    {
     "data": {
      "text/plain": [
       "AnnData object with n_obs × n_vars = 66432 × 34667\n",
       "    obs: 'Capbatch', 'DMGM_DL', 'DMGM_UL', 'DMWM', 'NBB_case', 'PMI', 'RIN', 'RNA_snn_res.0.3', 'SCT_snn_res.0.1', 'Seqbatch', 'UMIs', 'age', 'cell_type', 'diagnosis', 'genes', 'mito_perc', 'nCount_RNA', 'nCount_SCT', 'nFeature_RNA', 'nFeature_SCT', 'orig.ident', 'pathology', 'percent.mt', 'pseudotime', 'region', 'ribo_perc', 'sample', 'seurat_cluster', 'seurat_clusters', 'sex', 'stage'\n",
       "    layers: 'counts'"
      ]
     },
     "execution_count": 5,
     "metadata": {},
     "output_type": "execute_result"
    }
   ],
   "source": [
    "A_new = sc.read_h5ad('D:\\儿童医院ZWT_MS\\单细胞转录组分析\\AJS转录组整合\\patient_remove\\A.h5ad')\n",
    "A_new"
   ]
  },
  {
   "cell_type": "code",
   "execution_count": 6,
   "metadata": {},
   "outputs": [
    {
     "data": {
      "text/plain": [
       "oligodendrocytes    45697\n",
       "astrocytes           8211\n",
       "immune               5432\n",
       "neurons              2803\n",
       "opc                  2175\n",
       "vascular_cells       1708\n",
       "lymphocytes           406\n",
       "Name: cell_type, dtype: int64"
      ]
     },
     "execution_count": 6,
     "metadata": {},
     "output_type": "execute_result"
    }
   ],
   "source": [
    "A_new.obs['cell_type'].value_counts()"
   ]
  },
  {
   "cell_type": "code",
   "execution_count": null,
   "metadata": {},
   "outputs": [],
   "source": [
    "A_new.write_h5ad('D:\\\\儿童医院ZWT_MS\\\\单细胞转录组分析\\\\AJS转录组整合\\\\patient_remove\\\\A.h5ad')"
   ]
  },
  {
   "cell_type": "code",
   "execution_count": 9,
   "metadata": {},
   "outputs": [
    {
     "data": {
      "text/plain": [
       "oligodendrocytes    45697\n",
       "astrocytes           8211\n",
       "immune               5432\n",
       "neurons              2803\n",
       "opc                  2175\n",
       "vascular_cells       1708\n",
       "lymphocytes           406\n",
       "Name: cell_type, dtype: int64"
      ]
     },
     "execution_count": 9,
     "metadata": {},
     "output_type": "execute_result"
    }
   ],
   "source": [
    "# A_new = ad.read_zarr('D:\\儿童医院ZWT_MS\\阿里云\\SCimilarity\\A_new_zarr')\n",
    "A_new.obs['cell_type'].value_counts()"
   ]
  },
  {
   "cell_type": "code",
   "execution_count": 10,
   "metadata": {},
   "outputs": [
    {
     "data": {
      "text/plain": [
       "oligodendrocyte                   45697\n",
       "astrocyte                          8211\n",
       "immune                             5432\n",
       "neuron                             2803\n",
       "oligodendrocyte precursor cell     2175\n",
       "endothelial cell                   1708\n",
       "lymphocyte                          406\n",
       "Name: cell_type, dtype: int64"
      ]
     },
     "execution_count": 10,
     "metadata": {},
     "output_type": "execute_result"
    }
   ],
   "source": [
    "A_new.obs['cell_type'] = A_new.obs['cell_type'].replace({\"oligodendrocytes\":\"oligodendrocyte\",'opc':'oligodendrocyte precursor cell','neurons':'neuron','astrocytes':'astrocyte','vascular_cells': 'endothelial cell','lymphocytes': 'lymphocyte'})\n",
    "A_new.obs['cell_type'].value_counts()"
   ]
  },
  {
   "cell_type": "code",
   "execution_count": 11,
   "metadata": {},
   "outputs": [
    {
     "data": {
      "text/plain": [
       "AnnData object with n_obs × n_vars = 66432 × 34667\n",
       "    obs: 'Capbatch', 'DMGM_DL', 'DMGM_UL', 'DMWM', 'NBB_case', 'PMI', 'RIN', 'RNA_snn_res.0.3', 'SCT_snn_res.0.1', 'Seqbatch', 'UMIs', 'age', 'cell_type', 'diagnosis', 'genes', 'mito_perc', 'nCount_RNA', 'nCount_SCT', 'nFeature_RNA', 'nFeature_SCT', 'orig.ident', 'pathology', 'percent.mt', 'pseudotime', 'region', 'ribo_perc', 'sample', 'seurat_cluster', 'seurat_clusters', 'sex', 'stage'\n",
       "    layers: 'counts'"
      ]
     },
     "execution_count": 11,
     "metadata": {},
     "output_type": "execute_result"
    }
   ],
   "source": [
    "A_new"
   ]
  },
  {
   "cell_type": "code",
   "execution_count": 12,
   "metadata": {},
   "outputs": [
    {
     "data": {
      "text/plain": [
       "oligodendrocyte                   45697\n",
       "astrocyte                          8211\n",
       "neuron                             2803\n",
       "oligodendrocyte precursor cell     2175\n",
       "endothelial cell                   1708\n",
       "lymphocyte                          406\n",
       "Name: cell_type, dtype: int64"
      ]
     },
     "execution_count": 12,
     "metadata": {},
     "output_type": "execute_result"
    }
   ],
   "source": [
    "A_new = A_new[~A_new.obs['cell_type'].isin(['immune']), :]\n",
    "A_new.obs['cell_type'].value_counts()"
   ]
  },
  {
   "cell_type": "code",
   "execution_count": 14,
   "metadata": {},
   "outputs": [
    {
     "data": {
      "text/plain": [
       "View of AnnData object with n_obs × n_vars = 61000 × 34667\n",
       "    obs: 'Capbatch', 'DMGM_DL', 'DMGM_UL', 'DMWM', 'NBB_case', 'PMI', 'RIN', 'RNA_snn_res.0.3', 'SCT_snn_res.0.1', 'Seqbatch', 'UMIs', 'age', 'cell_type', 'diagnosis', 'genes', 'mito_perc', 'nCount_RNA', 'nCount_SCT', 'nFeature_RNA', 'nFeature_SCT', 'orig.ident', 'pathology', 'percent.mt', 'pseudotime', 'region', 'ribo_perc', 'sample', 'seurat_cluster', 'seurat_clusters', 'sex', 'stage'\n",
       "    layers: 'counts'"
      ]
     },
     "execution_count": 14,
     "metadata": {},
     "output_type": "execute_result"
    }
   ],
   "source": [
    "A_new"
   ]
  },
  {
   "cell_type": "code",
   "execution_count": 15,
   "metadata": {},
   "outputs": [],
   "source": [
    "A_new.write_zarr('D:\\儿童医院ZWT_MS\\阿里云\\SCimilarity\\A_new_zarr')"
   ]
  },
  {
   "cell_type": "code",
   "execution_count": 41,
   "metadata": {},
   "outputs": [
    {
     "data": {
      "text/plain": [
       "AnnData object with n_obs × n_vars = 46702 × 34667\n",
       "    obs: 'Capbatch', 'DMGM_DL', 'DMGM_UL', 'DMWM', 'NBB_case', 'PMI', 'RIN', 'RNA_snn_res.0.3', 'SCT_snn_res.0.1', 'Seqbatch', 'UMIs', 'age', 'cell_type', 'diagnosis', 'genes', 'mito_perc', 'nCount_RNA', 'nCount_SCT', 'nFeature_RNA', 'nFeature_SCT', 'orig.ident', 'pathology', 'percent.mt', 'pseudotime', 'region', 'ribo_perc', 'sample', 'seurat_cluster', 'seurat_clusters', 'sex', 'stage'\n",
       "    layers: 'counts'"
      ]
     },
     "execution_count": 41,
     "metadata": {},
     "output_type": "execute_result"
    }
   ],
   "source": [
    "S = sc.read_h5ad('D:\\儿童医院ZWT_MS\\单细胞转录组分析\\AJS转录组整合\\patient_remove\\S.h5ad')\n",
    "S"
   ]
  },
  {
   "cell_type": "code",
   "execution_count": 42,
   "metadata": {},
   "outputs": [
    {
     "data": {
      "text/plain": [
       "OL-A             9642\n",
       "Astrocytes       5381\n",
       "OPC              3844\n",
       "IN-VIP           2737\n",
       "EN-L4            2729\n",
       "EN-L2-3-A        2552\n",
       "EN-L2-3-B        2518\n",
       "EN-L5-6          2423\n",
       "EN-MIX           2403\n",
       "EN-PYR           2082\n",
       "IN-PVALB         1835\n",
       "OL-C             1598\n",
       "IN-SST           1486\n",
       "Microglia        1425\n",
       "Glia-MIX         1177\n",
       "OL-B             1154\n",
       "IN-SV2C           774\n",
       "Endo cells        374\n",
       "Phagocytes        258\n",
       "Stromal cells     153\n",
       "T cells           104\n",
       "B cells            53\n",
       "Name: cell_type, dtype: int64"
      ]
     },
     "execution_count": 42,
     "metadata": {},
     "output_type": "execute_result"
    }
   ],
   "source": [
    "S.obs['cell_type'].value_counts()"
   ]
  },
  {
   "cell_type": "code",
   "execution_count": 43,
   "metadata": {},
   "outputs": [
    {
     "data": {
      "text/plain": [
       "neuron                            21539\n",
       "oligodendrocyte                   12394\n",
       "astrocyte                          5381\n",
       "oligodendrocyte precursor cell     3844\n",
       "microglial cell                    1425\n",
       "Glia-MIX                           1177\n",
       "endothelial cell                    374\n",
       "phagocyte                           258\n",
       "Stromal cells                       153\n",
       "T cells                             104\n",
       "B cells                              53\n",
       "Name: cell_type, dtype: int64"
      ]
     },
     "execution_count": 43,
     "metadata": {},
     "output_type": "execute_result"
    }
   ],
   "source": [
    "S.obs['cell_type'] = S.obs['cell_type'].replace({'OL-A':'oligodendrocyte','OL-B':'oligodendrocyte','OL-C':'oligodendrocyte','OPC':'oligodendrocyte precursor cell','IN-VIP':'neuron','EN-L4':'neuron','EN-L2-3-A':'neuron','EN-L2-3-B':'neuron','EN-L5-6':'neuron','EN-MIX':'neuron','EN-PYR':'neuron','IN-PVALB':'neuron','IN-SST':'neuron','IN-SV2C':'neuron','Astrocytes':'astrocyte','Endo cells': 'endothelial cell','Phagocytes': 'phagocyte','Microglia': 'microglial cell'})\n",
    "S.obs['cell_type'].value_counts()"
   ]
  },
  {
   "cell_type": "code",
   "execution_count": 44,
   "metadata": {},
   "outputs": [
    {
     "data": {
      "text/plain": [
       "neuron                            21539\n",
       "oligodendrocyte                   12394\n",
       "astrocyte                          5381\n",
       "oligodendrocyte precursor cell     3844\n",
       "microglial cell                    1425\n",
       "endothelial cell                    374\n",
       "phagocyte                           258\n",
       "Name: cell_type, dtype: int64"
      ]
     },
     "execution_count": 44,
     "metadata": {},
     "output_type": "execute_result"
    }
   ],
   "source": [
    "S = S[~S.obs['cell_type'].isin(['Stromal cells']), :]\n",
    "S = S[~S.obs['cell_type'].isin(['T cells']), :]\n",
    "S = S[~S.obs['cell_type'].isin(['B cells']), :]\n",
    "S = S[~S.obs['cell_type'].isin(['Glia-MIX']), :]\n",
    "S.obs['cell_type'].value_counts()"
   ]
  },
  {
   "cell_type": "code",
   "execution_count": 47,
   "metadata": {},
   "outputs": [
    {
     "data": {
      "text/plain": [
       "View of AnnData object with n_obs × n_vars = 45215 × 34667\n",
       "    obs: 'Capbatch', 'DMGM_DL', 'DMGM_UL', 'DMWM', 'NBB_case', 'PMI', 'RIN', 'RNA_snn_res.0.3', 'SCT_snn_res.0.1', 'Seqbatch', 'UMIs', 'age', 'cell_type', 'diagnosis', 'genes', 'mito_perc', 'nCount_RNA', 'nCount_SCT', 'nFeature_RNA', 'nFeature_SCT', 'orig.ident', 'pathology', 'percent.mt', 'pseudotime', 'region', 'ribo_perc', 'sample', 'seurat_cluster', 'seurat_clusters', 'sex', 'stage'\n",
       "    layers: 'counts'"
      ]
     },
     "execution_count": 47,
     "metadata": {},
     "output_type": "execute_result"
    }
   ],
   "source": [
    "S"
   ]
  },
  {
   "cell_type": "code",
   "execution_count": 46,
   "metadata": {},
   "outputs": [],
   "source": [
    "S.write_zarr('D:\\儿童医院ZWT_MS\\阿里云\\SCimilarity\\S_new_zarr')"
   ]
  },
  {
   "cell_type": "code",
   "execution_count": 48,
   "metadata": {},
   "outputs": [
    {
     "data": {
      "text/plain": [
       "neuron                            21539\n",
       "oligodendrocyte                   12394\n",
       "astrocyte                          5381\n",
       "oligodendrocyte precursor cell     3844\n",
       "microglial cell                    1425\n",
       "endothelial cell                    374\n",
       "phagocyte                           258\n",
       "Name: cell_type, dtype: int64"
      ]
     },
     "execution_count": 48,
     "metadata": {},
     "output_type": "execute_result"
    }
   ],
   "source": [
    "S.obs['cell_type'].value_counts()"
   ]
  },
  {
   "cell_type": "code",
   "execution_count": 7,
   "metadata": {},
   "outputs": [],
   "source": [
    "S.write_h5ad('D:\\\\儿童医院ZWT_MS\\\\单细胞转录组分析\\\\AJS转录组整合\\\\patient_remove\\\\S.h5ad')"
   ]
  },
  {
   "cell_type": "code",
   "execution_count": 37,
   "metadata": {},
   "outputs": [
    {
     "data": {
      "text/plain": [
       "AnnData object with n_obs × n_vars = 61000 × 34667\n",
       "    obs: 'Capbatch', 'DMGM_DL', 'DMGM_UL', 'DMWM', 'NBB_case', 'PMI', 'RIN', 'RNA_snn_res.0.3', 'SCT_snn_res.0.1', 'Seqbatch', 'UMIs', 'age', 'cell_type', 'diagnosis', 'genes', 'mito_perc', 'nCount_RNA', 'nCount_SCT', 'nFeature_RNA', 'nFeature_SCT', 'orig.ident', 'pathology', 'percent.mt', 'pseudotime', 'region', 'ribo_perc', 'sample', 'seurat_cluster', 'seurat_clusters', 'sex', 'stage'\n",
       "    layers: 'counts'"
      ]
     },
     "execution_count": 37,
     "metadata": {},
     "output_type": "execute_result"
    }
   ],
   "source": [
    "A = ad.read_zarr('D:\\儿童医院ZWT_MS\\阿里云\\SCimilarity\\A_new_zarr')\n",
    "A"
   ]
  },
  {
   "cell_type": "code",
   "execution_count": 38,
   "metadata": {},
   "outputs": [
    {
     "data": {
      "text/plain": [
       "AnnData object with n_obs × n_vars = 45215 × 34667\n",
       "    obs: 'Capbatch', 'DMGM_DL', 'DMGM_UL', 'DMWM', 'NBB_case', 'PMI', 'RIN', 'RNA_snn_res.0.3', 'SCT_snn_res.0.1', 'Seqbatch', 'UMIs', 'age', 'cell_type', 'diagnosis', 'genes', 'mito_perc', 'nCount_RNA', 'nCount_SCT', 'nFeature_RNA', 'nFeature_SCT', 'orig.ident', 'pathology', 'percent.mt', 'pseudotime', 'region', 'ribo_perc', 'sample', 'seurat_cluster', 'seurat_clusters', 'sex', 'stage'\n",
       "    layers: 'counts'"
      ]
     },
     "execution_count": 38,
     "metadata": {},
     "output_type": "execute_result"
    }
   ],
   "source": [
    "S = ad.read_zarr('D:\\儿童医院ZWT_MS\\阿里云\\SCimilarity\\S_new_zarr')\n",
    "S"
   ]
  },
  {
   "cell_type": "code",
   "execution_count": 25,
   "metadata": {},
   "outputs": [],
   "source": [
    "import joblib"
   ]
  },
  {
   "cell_type": "code",
   "execution_count": 29,
   "metadata": {},
   "outputs": [
    {
     "name": "stderr",
     "output_type": "stream",
     "text": [
      "Exception in callback BaseAsyncIOLoop._handle_events(1260, 1)\n",
      "handle: <Handle BaseAsyncIOLoop._handle_events(1260, 1)>\n",
      "Traceback (most recent call last):\n",
      "  File \"d:\\Anaconda3\\lib\\asyncio\\events.py\", line 80, in _run\n",
      "    self._context.run(self._callback, *self._args)\n",
      "  File \"d:\\Anaconda3\\lib\\site-packages\\tornado\\platform\\asyncio.py\", line 202, in _handle_events\n",
      "    handler_func(fileobj, events)\n",
      "  File \"d:\\Anaconda3\\lib\\site-packages\\zmq\\eventloop\\zmqstream.py\", line 610, in _handle_events\n",
      "    self._handle_recv()\n",
      "  File \"d:\\Anaconda3\\lib\\site-packages\\zmq\\eventloop\\zmqstream.py\", line 639, in _handle_recv\n",
      "    self._run_callback(callback, msg)\n",
      "  File \"d:\\Anaconda3\\lib\\site-packages\\zmq\\eventloop\\zmqstream.py\", line 560, in _run_callback\n",
      "    f = callback(*args, **kwargs)\n",
      "  File \"d:\\Anaconda3\\lib\\site-packages\\ipykernel\\iostream.py\", line 120, in _handle_event\n",
      "    event_f()\n",
      "  File \"d:\\Anaconda3\\lib\\site-packages\\ipykernel\\iostream.py\", line 511, in _flush\n",
      "    data = self._flush_buffer()\n",
      "  File \"d:\\Anaconda3\\lib\\site-packages\\ipykernel\\iostream.py\", line 580, in _flush_buffer\n",
      "    data = buf.getvalue()\n",
      "MemoryError\n"
     ]
    }
   ],
   "source": [
    "with open('E:\\\\model_v1.1\\\\cellsearch\\\\full_kNN.bin', 'rb') as f:\n",
    "    data = f.read()\n",
    "\n",
    "# 打印读取的字节数据\n",
    "print(data)"
   ]
  },
  {
   "cell_type": "code",
   "execution_count": 28,
   "metadata": {},
   "outputs": [
    {
     "ename": "KeyError",
     "evalue": "0",
     "output_type": "error",
     "traceback": [
      "\u001b[1;31m---------------------------------------------------------------------------\u001b[0m",
      "\u001b[1;31mKeyError\u001b[0m                                  Traceback (most recent call last)",
      "Cell \u001b[1;32mIn[28], line 2\u001b[0m\n\u001b[0;32m      1\u001b[0m \u001b[38;5;66;03m# 加载保存的模型\u001b[39;00m\n\u001b[1;32m----> 2\u001b[0m model \u001b[38;5;241m=\u001b[39m \u001b[43mjoblib\u001b[49m\u001b[38;5;241;43m.\u001b[39;49m\u001b[43mload\u001b[49m\u001b[43m(\u001b[49m\u001b[38;5;124;43m'\u001b[39;49m\u001b[38;5;124;43mE:\u001b[39;49m\u001b[38;5;130;43;01m\\\\\u001b[39;49;00m\u001b[38;5;124;43mmodel_v1.1\u001b[39;49m\u001b[38;5;130;43;01m\\\\\u001b[39;49;00m\u001b[38;5;124;43mcellsearch\u001b[39;49m\u001b[38;5;130;43;01m\\\\\u001b[39;49;00m\u001b[38;5;124;43mfull_kNN.bin\u001b[39;49m\u001b[38;5;124;43m'\u001b[39;49m\u001b[43m)\u001b[49m\n",
      "File \u001b[1;32md:\\Anaconda3\\lib\\site-packages\\joblib\\numpy_pickle.py:658\u001b[0m, in \u001b[0;36mload\u001b[1;34m(filename, mmap_mode)\u001b[0m\n\u001b[0;32m    652\u001b[0m             \u001b[38;5;28;01mif\u001b[39;00m \u001b[38;5;28misinstance\u001b[39m(fobj, \u001b[38;5;28mstr\u001b[39m):\n\u001b[0;32m    653\u001b[0m                 \u001b[38;5;66;03m# if the returned file object is a string, this means we\u001b[39;00m\n\u001b[0;32m    654\u001b[0m                 \u001b[38;5;66;03m# try to load a pickle file generated with an version of\u001b[39;00m\n\u001b[0;32m    655\u001b[0m                 \u001b[38;5;66;03m# Joblib so we load it with joblib compatibility function.\u001b[39;00m\n\u001b[0;32m    656\u001b[0m                 \u001b[38;5;28;01mreturn\u001b[39;00m load_compatibility(fobj)\n\u001b[1;32m--> 658\u001b[0m             obj \u001b[38;5;241m=\u001b[39m \u001b[43m_unpickle\u001b[49m\u001b[43m(\u001b[49m\u001b[43mfobj\u001b[49m\u001b[43m,\u001b[49m\u001b[43m \u001b[49m\u001b[43mfilename\u001b[49m\u001b[43m,\u001b[49m\u001b[43m \u001b[49m\u001b[43mmmap_mode\u001b[49m\u001b[43m)\u001b[49m\n\u001b[0;32m    659\u001b[0m \u001b[38;5;28;01mreturn\u001b[39;00m obj\n",
      "File \u001b[1;32md:\\Anaconda3\\lib\\site-packages\\joblib\\numpy_pickle.py:577\u001b[0m, in \u001b[0;36m_unpickle\u001b[1;34m(fobj, filename, mmap_mode)\u001b[0m\n\u001b[0;32m    575\u001b[0m obj \u001b[38;5;241m=\u001b[39m \u001b[38;5;28;01mNone\u001b[39;00m\n\u001b[0;32m    576\u001b[0m \u001b[38;5;28;01mtry\u001b[39;00m:\n\u001b[1;32m--> 577\u001b[0m     obj \u001b[38;5;241m=\u001b[39m \u001b[43munpickler\u001b[49m\u001b[38;5;241;43m.\u001b[39;49m\u001b[43mload\u001b[49m\u001b[43m(\u001b[49m\u001b[43m)\u001b[49m\n\u001b[0;32m    578\u001b[0m     \u001b[38;5;28;01mif\u001b[39;00m unpickler\u001b[38;5;241m.\u001b[39mcompat_mode:\n\u001b[0;32m    579\u001b[0m         warnings\u001b[38;5;241m.\u001b[39mwarn(\u001b[38;5;124m\"\u001b[39m\u001b[38;5;124mThe file \u001b[39m\u001b[38;5;124m'\u001b[39m\u001b[38;5;132;01m%s\u001b[39;00m\u001b[38;5;124m'\u001b[39m\u001b[38;5;124m has been generated with a \u001b[39m\u001b[38;5;124m\"\u001b[39m\n\u001b[0;32m    580\u001b[0m                       \u001b[38;5;124m\"\u001b[39m\u001b[38;5;124mjoblib version less than 0.10. \u001b[39m\u001b[38;5;124m\"\u001b[39m\n\u001b[0;32m    581\u001b[0m                       \u001b[38;5;124m\"\u001b[39m\u001b[38;5;124mPlease regenerate this pickle file.\u001b[39m\u001b[38;5;124m\"\u001b[39m\n\u001b[0;32m    582\u001b[0m                       \u001b[38;5;241m%\u001b[39m filename,\n\u001b[0;32m    583\u001b[0m                       \u001b[38;5;167;01mDeprecationWarning\u001b[39;00m, stacklevel\u001b[38;5;241m=\u001b[39m\u001b[38;5;241m3\u001b[39m)\n",
      "File \u001b[1;32md:\\Anaconda3\\lib\\pickle.py:1213\u001b[0m, in \u001b[0;36m_Unpickler.load\u001b[1;34m(self)\u001b[0m\n\u001b[0;32m   1211\u001b[0m             \u001b[38;5;28;01mraise\u001b[39;00m \u001b[38;5;167;01mEOFError\u001b[39;00m\n\u001b[0;32m   1212\u001b[0m         \u001b[38;5;28;01massert\u001b[39;00m \u001b[38;5;28misinstance\u001b[39m(key, bytes_types)\n\u001b[1;32m-> 1213\u001b[0m         \u001b[43mdispatch\u001b[49m\u001b[43m[\u001b[49m\u001b[43mkey\u001b[49m\u001b[43m[\u001b[49m\u001b[38;5;241;43m0\u001b[39;49m\u001b[43m]\u001b[49m\u001b[43m]\u001b[49m(\u001b[38;5;28mself\u001b[39m)\n\u001b[0;32m   1214\u001b[0m \u001b[38;5;28;01mexcept\u001b[39;00m _Stop \u001b[38;5;28;01mas\u001b[39;00m stopinst:\n\u001b[0;32m   1215\u001b[0m     \u001b[38;5;28;01mreturn\u001b[39;00m stopinst\u001b[38;5;241m.\u001b[39mvalue\n",
      "\u001b[1;31mKeyError\u001b[0m: 0"
     ]
    }
   ],
   "source": [
    "# 加载保存的模型\n",
    "model = joblib.load('E:\\\\model_v1.1\\\\cellsearch\\\\full_kNN.bin')"
   ]
  },
  {
   "cell_type": "code",
   "execution_count": 34,
   "metadata": {},
   "outputs": [
    {
     "ename": "NameError",
     "evalue": "name 'model' is not defined",
     "output_type": "error",
     "traceback": [
      "\u001b[1;31m---------------------------------------------------------------------------\u001b[0m",
      "\u001b[1;31mNameError\u001b[0m                                 Traceback (most recent call last)",
      "Cell \u001b[1;32mIn[34], line 1\u001b[0m\n\u001b[1;32m----> 1\u001b[0m \u001b[43mmodel\u001b[49m\n",
      "\u001b[1;31mNameError\u001b[0m: name 'model' is not defined"
     ]
    }
   ],
   "source": [
    "model"
   ]
  },
  {
   "cell_type": "code",
   "execution_count": 37,
   "metadata": {},
   "outputs": [
    {
     "data": {
      "text/plain": [
       "AnnData object with n_obs × n_vars = 105951 × 20433\n",
       "    obs: 'Disease_Status', 'nCount_RNA', 'nFeature_RNA', 'Sample', 'percent.mito', 'nCount_SCT', 'nFeature_SCT', 'Predicted.celltype.Lev1.score', 'Predicted.celltype.Lev1', 'Predicted.celltype.Lev2.score', 'Predicted.celltype.Lev2', 'Age', 'Sex', 'Batch', 'Celltype.Lev1.manuscript', 'Celltype.Lev2.manuscript'\n",
       "    var: 'name'\n",
       "    obsm: 'X_ref.umap'"
      ]
     },
     "execution_count": 37,
     "metadata": {},
     "output_type": "execute_result"
    }
   ],
   "source": [
    "Muenster_Human_CSF_toscanpy_Apr23_2021 = sc.read_h5ad('C:\\\\Users\\\\Dell\\\\Downloads\\\\Muenster_Human_CSF_toscanpy_Apr23_2021.h5ad')\n",
    "Muenster_Human_CSF_toscanpy_Apr23_2021"
   ]
  },
  {
   "cell_type": "code",
   "execution_count": 40,
   "metadata": {},
   "outputs": [
    {
     "name": "stderr",
     "output_type": "stream",
     "text": [
      "The loom file will lack these fields:\n",
      "{'X_ref.umap'}\n",
      "Use write_obsm_varm=True to export multi-dimensional annotations\n"
     ]
    }
   ],
   "source": [
    "Muenster_Human_CSF_toscanpy_Apr23_2021.write_loom(\"C:\\\\Users\\\\Dell\\\\Downloads\\\\Muenster_Human_CSF_toscanpy_Apr23_2021.loom\")"
   ]
  }
 ],
 "metadata": {
  "kernelspec": {
   "display_name": "base",
   "language": "python",
   "name": "python3"
  },
  "language_info": {
   "codemirror_mode": {
    "name": "ipython",
    "version": 3
   },
   "file_extension": ".py",
   "mimetype": "text/x-python",
   "name": "python",
   "nbconvert_exporter": "python",
   "pygments_lexer": "ipython3",
   "version": "3.10.9"
  }
 },
 "nbformat": 4,
 "nbformat_minor": 2
}
